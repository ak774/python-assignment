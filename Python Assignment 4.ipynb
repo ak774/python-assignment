{
 "cells": [
  {
   "cell_type": "code",
   "execution_count": 18,
   "metadata": {},
   "outputs": [
    {
     "name": "stdout",
     "output_type": "stream",
     "text": [
      "4.898979485566356\n"
     ]
    }
   ],
   "source": [
    "class area:\n",
    "    def __init__(self,a,b,c):\n",
    "        self.a=a\n",
    "        self.b=b\n",
    "        self.c=c\n",
    "\n",
    "class calculate(area):\n",
    "    def calarea(self,a,b,c):\n",
    "        s=(a+b+c)//2\n",
    "        return (s*(s-a)*(s-b)*(s-c))**(0.5)\n",
    "\n",
    "\n",
    "obj=calculate(3,4,5)\n",
    "print(obj.calarea(4,4,5))"
   ]
  },
  {
   "cell_type": "code",
   "execution_count": 19,
   "metadata": {},
   "outputs": [
    {
     "name": "stdout",
     "output_type": "stream",
     "text": [
      "['hello', 'hi', 'sfb']\n"
     ]
    }
   ],
   "source": [
    "def filter_long_words(l,n):\n",
    "    k=[]\n",
    "    for i in l:\n",
    "        if len(i)>n:\n",
    "            k.append(i)\n",
    "    return k\n",
    "l=[\"hello\",\"hi\",\"s\",\"sfb\"]\n",
    "n=1\n",
    "out=filter_long_words(l,n)\n",
    "print(out)"
   ]
  },
  {
   "cell_type": "code",
   "execution_count": 21,
   "metadata": {},
   "outputs": [
    {
     "name": "stdout",
     "output_type": "stream",
     "text": [
      "[4, 3, 4]\n"
     ]
    }
   ],
   "source": [
    "def map_list(l):\n",
    "    k=[]\n",
    "    for i in l:\n",
    "        k.append(len(i))\n",
    "    return k\n",
    "l=[\"fall\",\"bye\",\"born\"]\n",
    "c=map_list(l)\n",
    "print(c)"
   ]
  },
  {
   "cell_type": "code",
   "execution_count": 41,
   "metadata": {},
   "outputs": [
    {
     "name": "stdout",
     "output_type": "stream",
     "text": [
      "True\n"
     ]
    }
   ],
   "source": [
    "def isvowel(a):\n",
    "    a1='aeiouAEIOU'\n",
    "    if a not in a1 :\n",
    "        return False\n",
    "    else:\n",
    "        return True\n",
    "a=\"a\"\n",
    "out=isvowel(a)\n",
    "print(out)"
   ]
  },
  {
   "cell_type": "code",
   "execution_count": null,
   "metadata": {},
   "outputs": [],
   "source": []
  }
 ],
 "metadata": {
  "kernelspec": {
   "display_name": "Python 3",
   "language": "python",
   "name": "python3"
  },
  "language_info": {
   "codemirror_mode": {
    "name": "ipython",
    "version": 3
   },
   "file_extension": ".py",
   "mimetype": "text/x-python",
   "name": "python",
   "nbconvert_exporter": "python",
   "pygments_lexer": "ipython3",
   "version": "3.7.7"
  }
 },
 "nbformat": 4,
 "nbformat_minor": 4
}
